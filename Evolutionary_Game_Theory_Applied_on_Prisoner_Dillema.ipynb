{
  "nbformat": 4,
  "nbformat_minor": 0,
  "metadata": {
    "colab": {
      "provenance": [],
      "include_colab_link": true
    },
    "kernelspec": {
      "name": "python3",
      "display_name": "Python 3"
    },
    "language_info": {
      "name": "python"
    }
  },
  "cells": [
    {
      "cell_type": "markdown",
      "metadata": {
        "id": "view-in-github",
        "colab_type": "text"
      },
      "source": [
        "<a href=\"https://colab.research.google.com/github/OliverOE1509/OliverOE1509/blob/main/Evolutionary_Game_Theory_Applied_on_Prisoner_Dillema.ipynb\" target=\"_parent\"><img src=\"https://colab.research.google.com/assets/colab-badge.svg\" alt=\"Open In Colab\"/></a>"
      ]
    },
    {
      "cell_type": "markdown",
      "source": [
        "### Evolutionary Game Theory\n",
        "\n",
        "#####"
      ],
      "metadata": {
        "id": "H42XsC_Ooj6x"
      }
    },
    {
      "cell_type": "code",
      "execution_count": null,
      "metadata": {
        "id": "cT8clvGToagw"
      },
      "outputs": [],
      "source": [
        "def prisoner_dillema(outcomes, strat1, strat2):\n"
      ]
    },
    {
      "cell_type": "code",
      "source": [],
      "metadata": {
        "id": "YswsJ956pvFm"
      },
      "execution_count": null,
      "outputs": []
    },
    {
      "cell_type": "markdown",
      "source": [
        "(Written on 14.04.2024, 22:37 PM) The idea behind this code, is to divide a population of 100 into two groups of 50, then shuffle it randomly, to zip through, and calculate the winning player of each game, with their own respective strategies.\n",
        "\n",
        "After all (4950 games) are completed, a certain amount of the winning people have their own strategy. From this, the reproduction rate is calculated and applied to a new generation of 100 people\n",
        "\n",
        "Then the process is repeated until we see convergence\n",
        "\n",
        "Code can be compressed, but still in development. Will work on it later tomorrow (15.04.2023)"
      ],
      "metadata": {
        "id": "VO-Ot5dmUnWa"
      }
    },
    {
      "cell_type": "code",
      "source": [
        "\n",
        "def evolution_prisoners_dilemma(initial_population):\n",
        "\t'''\n",
        "\tinitial_population[0] : tit for tat (tft)\n",
        "\n",
        "\tinitial_population[1] : always cooperate (ac)\n",
        "\n",
        "\tinitial_population[2] : always defect (ad)\n",
        "\t'''\n",
        "\n",
        "\tif sum(initial_population) == 1: # initial population contains percentages of population with each strategy, needs to add up to 1\n",
        "\n",
        "\t\t# Issue 1000 players\n",
        "\t\tplayers = [\"p\"] * 100\n",
        "\n",
        "\t\tstrat1 = int(initial_population[0] * 100)\n",
        "\t\tstrat2 = int(initial_population[1] * 100)\n",
        "\t\tstrat3 = int(initial_population[2] * 100)\n",
        "\t\tprint(strat1, strat2, strat3)\n",
        "\n",
        "\t\t# Split players\n",
        "\t\tp1 = players[0:50]\n",
        "\t\tp2 = players[50:100]\n",
        "\n",
        "\n",
        "\t\t# assign strategies to population 1\n",
        "\n",
        "\t\t# group1 strategy 1\n",
        "\t\tp1_strat1 = p1[:strat1]\n",
        "\t\ttfts = [\"tft\" for _ in range(len(p1_strat1))]\n",
        "\n",
        "\t\t# group1 strategy 2\n",
        "\t\tp1_strat2 = p1[strat1: (strat1 + strat2)]\n",
        "\t\tac = [\"ac\" for _ in range(len(p1_strat2))]\n",
        "\n",
        "\t\t# group1 strategy 3\n",
        "\t\tp1_strat3 = p1[-strat3:]\n",
        "\t\tad = [\"ad\" for _ in range(len(p1_strat3))]\n",
        "\n",
        "\t\tpop1 = tfts + ac + ad\n",
        "\t\t#print(pop1)\n",
        "\t\t#print(len(pop1))\n",
        "\n",
        "\n",
        "\t\t# assign strategies to population 2\n",
        "\t\tp2_strat1 = p2[:strat1]\n",
        "\t\ttfts2 = [\"tft\" for _ in range(len(p2_strat1))]\n",
        "\n",
        "\t\t# group1 strategy 2\n",
        "\t\tp2_strat2 = p2[strat1: (strat1 + strat2)]\n",
        "\t\tac2 = [\"ac\" for _ in range(len(p2_strat2))]\n",
        "\n",
        "\t\t# group1 strategy 3\n",
        "\t\tp2_strat3 = p2[-strat3:]\n",
        "\t\tad2 = [\"ad\" for _ in range(len(p2_strat3))]\n",
        "\n",
        "\t\tpop2 = tfts2 + ac2 + ad2\n",
        "\n",
        "\t\t#print(pop1, pop2)\n",
        "\n",
        "\t\t# Shuffle players\n",
        "\t\trandom.shuffle(pop1)\n",
        "\t\trandom.shuffle(pop2)\n",
        "\t\tprint(pop1)\n",
        "\t\tprint('\\n')\n",
        "\t\tprint(pop2)\n",
        "\n",
        "\t\tfor i, j in list(zip(pop1, pop2)):\n",
        "\t\t\tif i == \"ad\":\n",
        "\t\t\t\ti = alwaysdefect\n",
        "\t\t\tif i == \"ac\":\n",
        "\t\t\t\ti = alwayscooperate\n",
        "\t\t\tif i == \"tft\":\n",
        "\t\t\t\ti = titForTatP1\n",
        "\n",
        "\n",
        "\t\t\tif j == \"ad\":\n",
        "\t\t\t\tad = alwaysdefect\n",
        "\t\t\tif j == \"ac\":\n",
        "\t\t\t\tj = alwayscooperate\n",
        "\t\t\tif j == \"tft\":\n",
        "\t\t\t\tj = titForTatP2\n",
        "\n",
        "\t\t\tprint(i)\n",
        "\t\t\tprint(j)\n",
        "\t\t\tm1, m2, s1, s2 = repgame(i, j, 0.9, 10)\n",
        "\t\t\tprint(m1, m2)\n",
        "\n",
        "\n",
        "\n",
        "evolution_prisoners_dilemma(initial_population = [0.3, 0.2, 0.5])"
      ],
      "metadata": {
        "id": "NHHkYLObpydx"
      },
      "execution_count": null,
      "outputs": []
    }
  ]
}